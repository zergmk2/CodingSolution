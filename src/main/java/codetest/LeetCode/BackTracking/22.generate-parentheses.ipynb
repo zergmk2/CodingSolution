{
 "cells": [
  {
   "cell_type": "code",
   "execution_count": null,
   "metadata": {},
   "outputs": [],
   "source": [
    "/*\n",
    " * [22] Generate Parentheses\n",
    " *\n",
    " * https://leetcode.com/problems/generate-parentheses/description/\n",
    " *\n",
    " * algorithms\n",
    " * Medium (50.79%)\n",
    " * Total Accepted:    264.4K\n",
    " * Total Submissions: 517K\n",
    " * Testcase Example:  '3'\n",
    " *\n",
    " * \n",
    " * Given n pairs of parentheses, write a function to generate all combinations\n",
    " * of well-formed parentheses.\n",
    " * \n",
    " * \n",
    " * \n",
    " * For example, given n = 3, a solution set is:\n",
    " * \n",
    " * \n",
    " * [\n",
    " * ⁠ \"((()))\",\n",
    " * ⁠ \"(()())\",\n",
    " * ⁠ \"(())()\",\n",
    " * ⁠ \"()(())\",\n",
    " * ⁠ \"()()()\"\n",
    " * ]\n",
    " * \n",
    " */"
   ]
  },
  {
   "cell_type": "code",
   "execution_count": 15,
   "metadata": {},
   "outputs": [],
   "source": [
    "import java.util.*;"
   ]
  },
  {
   "cell_type": "code",
   "execution_count": 5,
   "metadata": {},
   "outputs": [],
   "source": [
    "class Solution\n",
    "{\n",
    "    private void Backtracking(Set<String> list, StringBuilder sb, int total)\n",
    "    {\n",
    "        int size = sb.length();\n",
    "        for (int i = 0; i <= size; i++)\n",
    "        {\n",
    "            sb.insert(i, \"()\");\n",
    "            if (total == 1)\n",
    "            {\n",
    "                list.add(sb.toString());\n",
    "            }\n",
    "            else if (total > 1)\n",
    "            {\n",
    "                Backtracking(list, sb, total - 1);\n",
    "            }\n",
    "            sb.delete(i, i + 2);\n",
    "        }\n",
    "    }\n",
    "\n",
    "    public List<String> generateParenthesis(int n) {\n",
    "        Set<String> list = new HashSet<>();\n",
    "        if (n == 0)\n",
    "        {\n",
    "            return new ArrayList<>();\n",
    "        }\n",
    "\n",
    "        Backtracking(list, new StringBuilder(), n);\n",
    "        return new ArrayList(list);\n",
    "    }\n",
    "}"
   ]
  },
  {
   "cell_type": "code",
   "execution_count": 6,
   "metadata": {},
   "outputs": [
    {
     "data": {
      "text/plain": [
       "[()()(), ()(()), (()()), (())(), ((()))]"
      ]
     },
     "execution_count": 6,
     "metadata": {},
     "output_type": "execute_result"
    }
   ],
   "source": [
    "Solution s = new Solution();\n",
    "s.generateParenthesis(3);"
   ]
  },
  {
   "cell_type": "code",
   "execution_count": 29,
   "metadata": {},
   "outputs": [
    {
     "ename": "UnresolvedReferenceException",
     "evalue": "Attempt to use definition snippet with unresolved references in MethodSnippet:generateParenthesis/(int)List<String>-public List<String> generateParenthesis(int n) {\n    List<String> list = new ArrayList<>();\n    if (n == 0)\n    {\n        return list;\n    }\n\n    Backtracking(list, new StringBuilder(), n);\n    return list;\n}",
     "output_type": "error",
     "traceback": []
    }
   ],
   "source": []
  },
  {
   "cell_type": "code",
   "execution_count": null,
   "metadata": {},
   "outputs": [],
   "source": []
  }
 ],
 "metadata": {
  "kernelspec": {
   "display_name": "Java",
   "language": "java",
   "name": "java"
  },
  "language_info": {
   "codemirror_mode": "java",
   "file_extension": ".java",
   "mimetype": "text/x-java-source",
   "name": "Java",
   "pygments_lexer": "java",
   "version": "11.0.1+13-LTS"
  }
 },
 "nbformat": 4,
 "nbformat_minor": 2
}
