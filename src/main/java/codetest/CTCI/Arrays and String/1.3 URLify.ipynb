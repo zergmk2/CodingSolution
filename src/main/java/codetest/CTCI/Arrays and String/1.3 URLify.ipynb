{
 "cells": [
  {
   "cell_type": "code",
   "execution_count": 3,
   "metadata": {},
   "outputs": [],
   "source": [
    "/*\n",
    " *\n",
    " * Write a method to replace all spaces in a string with ‘%20’.\n",
    " *\n",
    " */"
   ]
  },
  {
   "cell_type": "code",
   "execution_count": 16,
   "metadata": {},
   "outputs": [],
   "source": [
    "public int findLastCharacter(char[] charSet)\n",
    "{\n",
    "    if (charSet == null || charSet.length == 0)\n",
    "    {\n",
    "        return 0;\n",
    "    }\n",
    "\n",
    "    for (int i = charSet.length - 1; i > 0; i--)\n",
    "    {\n",
    "        if (charSet[i] != ' ')\n",
    "        {\n",
    "            return i;\n",
    "        }\n",
    "    }\n",
    "    return 0;\n",
    "}\n",
    "\n",
    "public void replaceSpaces(char[] charSet, int trueLength)\n",
    "{\n",
    "    int spaceCnt = 0;\n",
    "    for (int i = 0; i < trueLength; i++)\n",
    "    {\n",
    "        if (charSet[i] == ' ')\n",
    "            spaceCnt++;\n",
    "    }\n",
    "    \n",
    "    int end = trueLength + spaceCnt * 2;\n",
    "    \n",
    "    for (int i = trueLength - 1; i > 0; i--)\n",
    "    {\n",
    "        if (charSet[i] != ' ')\n",
    "        {\n",
    "            charSet[--end] = charSet[i];\n",
    "        }\n",
    "        else\n",
    "        {\n",
    "            charSet[--end] = '%';\n",
    "            charSet[--end] = '2';\n",
    "            charSet[--end] = '0';\n",
    "        }\n",
    "    }\n",
    "}"
   ]
  },
  {
   "cell_type": "code",
   "execution_count": 17,
   "metadata": {},
   "outputs": [],
   "source": [
    "String str = \"Mr John Smith    \";\n",
    "char[] arr = str.toCharArray();\n",
    "int trueLength = findLastCharacter(arr) + 1;\n",
    "replaceSpaces(arr, trueLength);"
   ]
  },
  {
   "cell_type": "code",
   "execution_count": 18,
   "metadata": {
    "scrolled": true
   },
   "outputs": [
    {
     "name": "stdout",
     "output_type": "stream",
     "text": [
      "Mr02%John02%Smith"
     ]
    }
   ],
   "source": [
    "System.out.print(arr);"
   ]
  }
 ],
 "metadata": {
  "kernelspec": {
   "display_name": "Java",
   "language": "java",
   "name": "java"
  },
  "language_info": {
   "codemirror_mode": "java",
   "file_extension": ".java",
   "mimetype": "text/x-java-source",
   "name": "Java",
   "pygments_lexer": "java",
   "version": "11.0.1+13-LTS"
  }
 },
 "nbformat": 4,
 "nbformat_minor": 2
}
