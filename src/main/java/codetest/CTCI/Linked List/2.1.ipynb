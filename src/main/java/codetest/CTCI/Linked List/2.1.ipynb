{
 "cells": [
  {
   "cell_type": "code",
   "execution_count": 1,
   "metadata": {},
   "outputs": [],
   "source": [
    "//Remove Dups! Write code to remove duplicates from an unsorted linked list. "
   ]
  },
  {
   "cell_type": "code",
   "execution_count": 12,
   "metadata": {},
   "outputs": [],
   "source": [
    "public class LinkedListNode {\n",
    "\tpublic LinkedListNode next;\n",
    "\tpublic LinkedListNode prev;\n",
    "\tpublic LinkedListNode last;\n",
    "\tpublic int data;\n",
    "\tpublic LinkedListNode(int d, LinkedListNode n, LinkedListNode p) {\n",
    "\t\tdata = d;\n",
    "\t\tsetNext(n);\n",
    "\t\tsetPrevious(p);\n",
    "\t}\n",
    "\t\n",
    "\tpublic LinkedListNode(int d) {\n",
    "\t\tdata = d;\n",
    "\t}\t\n",
    "\t\n",
    "\tpublic LinkedListNode() { }\n",
    "\n",
    "\tpublic void setNext(LinkedListNode n) {\n",
    "\t\tnext = n;\n",
    "\t\tif (this == last) {\n",
    "\t\t\tlast = n;\n",
    "\t\t}\n",
    "\t\tif (n != null && n.prev != this) {\n",
    "\t\t\tn.setPrevious(this);\n",
    "\t\t}\n",
    "\t}\n",
    "\t\n",
    "\tpublic void setPrevious(LinkedListNode p) {\n",
    "\t\tprev = p;\n",
    "\t\tif (p != null && p.next != this) {\n",
    "\t\t\tp.setNext(this);\n",
    "\t\t}\n",
    "\t}\t\n",
    "\t\n",
    "\tpublic String printForward() {\n",
    "\t\tif (next != null) {\n",
    "\t\t\treturn data + \"->\" + next.printForward();\n",
    "\t\t} else {\n",
    "\t\t\treturn ((Integer) data).toString();\n",
    "\t\t}\n",
    "\t}\n",
    "\t\n",
    "\tpublic LinkedListNode clone() {\n",
    "\t\tLinkedListNode next2 = null;\n",
    "\t\tif (next != null) {\n",
    "\t\t\tnext2 = next.clone();\n",
    "\t\t}\n",
    "\t\tLinkedListNode head2 = new LinkedListNode(data, next2, null);\n",
    "\t\treturn head2;\n",
    "\t}\n",
    "}"
   ]
  },
  {
   "cell_type": "code",
   "execution_count": 27,
   "metadata": {},
   "outputs": [],
   "source": [
    "import java.util.*;\n",
    "public void deleteDups(LinkedListNode head)\n",
    "{\n",
    "    Set<Integer> set = new HashSet<>();\n",
    "    \n",
    "    LinkedListNode node = head;\n",
    "    LinkedListNode prev = head;\n",
    "    while (node != null)\n",
    "    {\n",
    "        if (!set.add(node.data))\n",
    "        {\n",
    "            prev.next = node.next;\n",
    "\n",
    "        }\n",
    "        else\n",
    "        {\n",
    "            prev = node;\n",
    "        }\n",
    "        node = node.next;\n",
    "    }\n",
    "}"
   ]
  },
  {
   "cell_type": "code",
   "execution_count": 28,
   "metadata": {},
   "outputs": [
    {
     "name": "stdout",
     "output_type": "stream",
     "text": [
      "0->1->0->1->0->1->0->1\n",
      "0->1\n"
     ]
    }
   ],
   "source": [
    "LinkedListNode first = new LinkedListNode(0, null, null);\n",
    "LinkedListNode head = first;\n",
    "LinkedListNode second = first;\n",
    "for (int i = 1; i < 8; i++) {\n",
    "    second = new LinkedListNode(i % 2, null, null);\n",
    "    first.setNext(second);\n",
    "    second.setPrevious(first);\n",
    "    first = second;\n",
    "}\n",
    "System.out.println(head.printForward());\n",
    "deleteDups(head);\n",
    "System.out.println(head.printForward());"
   ]
  }
 ],
 "metadata": {
  "kernelspec": {
   "display_name": "Java",
   "language": "java",
   "name": "java"
  },
  "language_info": {
   "codemirror_mode": "java",
   "file_extension": ".java",
   "mimetype": "text/x-java-source",
   "name": "Java",
   "pygments_lexer": "java",
   "version": "11.0.1+13-LTS"
  }
 },
 "nbformat": 4,
 "nbformat_minor": 2
}
